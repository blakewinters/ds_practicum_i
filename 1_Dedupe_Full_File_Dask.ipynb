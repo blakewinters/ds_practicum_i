{
 "cells": [
  {
   "cell_type": "code",
   "execution_count": 1,
   "metadata": {},
   "outputs": [],
   "source": [
    "#Import Libraries\n",
    "import pandas as pd\n",
    "import dask.dataframe as dd\n",
    "from dask.distributed import Client, progress"
   ]
  },
  {
   "cell_type": "code",
   "execution_count": 2,
   "metadata": {},
   "outputs": [],
   "source": [
    "filepath = '../box_downloads/LoanLevelMonthly_NEW_Core_20210201.csv'"
   ]
  },
  {
   "cell_type": "code",
   "execution_count": 3,
   "metadata": {},
   "outputs": [
    {
     "data": {
      "text/html": [
       "<table style=\"border: 2px solid white;\">\n",
       "<tr>\n",
       "<td style=\"vertical-align: top; border: 0px solid white\">\n",
       "<h3 style=\"text-align: left;\">Client</h3>\n",
       "<ul style=\"text-align: left; list-style: none; margin: 0; padding: 0;\">\n",
       "  <li><b>Scheduler: </b>tcp://127.0.0.1:57029</li>\n",
       "  <li><b>Dashboard: </b><a href='http://127.0.0.1:8787/status' target='_blank'>http://127.0.0.1:8787/status</a></li>\n",
       "</ul>\n",
       "</td>\n",
       "<td style=\"vertical-align: top; border: 0px solid white\">\n",
       "<h3 style=\"text-align: left;\">Cluster</h3>\n",
       "<ul style=\"text-align: left; list-style:none; margin: 0; padding: 0;\">\n",
       "  <li><b>Workers: </b>2</li>\n",
       "  <li><b>Cores: </b>4</li>\n",
       "  <li><b>Memory: </b>2.00 GB</li>\n",
       "</ul>\n",
       "</td>\n",
       "</tr>\n",
       "</table>"
      ],
      "text/plain": [
       "<Client: 'tcp://127.0.0.1:57029' processes=2 threads=4, memory=2.00 GB>"
      ]
     },
     "execution_count": 3,
     "metadata": {},
     "output_type": "execute_result"
    }
   ],
   "source": [
    "#Setting client to view progress of each command\n",
    "client = Client(n_workers=2, threads_per_worker=2, memory_limit='1GB')\n",
    "client"
   ]
  },
  {
   "cell_type": "code",
   "execution_count": 4,
   "metadata": {},
   "outputs": [],
   "source": [
    "#Set datatypes to allow for better memory usage\n",
    "df = dd.read_csv(filepath, dtype={'CollectionFees': 'float64',\n",
    "       'CumulBK': 'float64',\n",
    "       'DefaultAmount': 'float64',\n",
    "       'ExtensionExecutionDate': 'object',\n",
    "       'ExtensionStatus': 'object',\n",
    "       'LoanAmount': 'float64',\n",
    "       'MargPrinBK': 'float64',\n",
    "       'PrinAdjustments': 'float64',\n",
    "       'RecoveryPayments': 'float64',\n",
    "       'RecoveryPrin': 'float64'})"
   ]
  },
  {
   "cell_type": "code",
   "execution_count": 5,
   "metadata": {},
   "outputs": [],
   "source": [
    "#Remove all columns but ones necessary for processing and mapping to join later\n",
    "df = df[['LoanID','ListingNumber','ListingCategoryName','CycleCounter','FICORange','ScorexRange']]"
   ]
  },
  {
   "cell_type": "code",
   "execution_count": 6,
   "metadata": {},
   "outputs": [],
   "source": [
    "#Dedupe file based on CycleCounter field (first instance of loan file)\n",
    "df = df[df.CycleCounter == 0]"
   ]
  },
  {
   "cell_type": "code",
   "execution_count": 7,
   "metadata": {},
   "outputs": [
    {
     "data": {
      "text/html": [
       "<div>\n",
       "<style scoped>\n",
       "    .dataframe tbody tr th:only-of-type {\n",
       "        vertical-align: middle;\n",
       "    }\n",
       "\n",
       "    .dataframe tbody tr th {\n",
       "        vertical-align: top;\n",
       "    }\n",
       "\n",
       "    .dataframe thead th {\n",
       "        text-align: right;\n",
       "    }\n",
       "</style>\n",
       "<table border=\"1\" class=\"dataframe\">\n",
       "  <thead>\n",
       "    <tr style=\"text-align: right;\">\n",
       "      <th></th>\n",
       "      <th>LoanID</th>\n",
       "      <th>ListingNumber</th>\n",
       "      <th>ListingCategoryName</th>\n",
       "      <th>CycleCounter</th>\n",
       "      <th>FICORange</th>\n",
       "      <th>ScorexRange</th>\n",
       "    </tr>\n",
       "  </thead>\n",
       "  <tbody>\n",
       "    <tr>\n",
       "      <th>0</th>\n",
       "      <td>256748</td>\n",
       "      <td>2187631</td>\n",
       "      <td>Other</td>\n",
       "      <td>0</td>\n",
       "      <td>720-739</td>\n",
       "      <td>680-699</td>\n",
       "    </tr>\n",
       "    <tr>\n",
       "      <th>1</th>\n",
       "      <td>256812</td>\n",
       "      <td>2253012</td>\n",
       "      <td>Debt Consolidation</td>\n",
       "      <td>0</td>\n",
       "      <td>800-819</td>\n",
       "      <td>820-839</td>\n",
       "    </tr>\n",
       "    <tr>\n",
       "      <th>2</th>\n",
       "      <td>257165</td>\n",
       "      <td>2280474</td>\n",
       "      <td>Other</td>\n",
       "      <td>0</td>\n",
       "      <td>760-779</td>\n",
       "      <td>800-819</td>\n",
       "    </tr>\n",
       "    <tr>\n",
       "      <th>3</th>\n",
       "      <td>257440</td>\n",
       "      <td>2273313</td>\n",
       "      <td>Home Improvement</td>\n",
       "      <td>0</td>\n",
       "      <td>780-799</td>\n",
       "      <td>800-819</td>\n",
       "    </tr>\n",
       "    <tr>\n",
       "      <th>4</th>\n",
       "      <td>257515</td>\n",
       "      <td>2193175</td>\n",
       "      <td>Debt Consolidation</td>\n",
       "      <td>0</td>\n",
       "      <td>720-739</td>\n",
       "      <td>700-719</td>\n",
       "    </tr>\n",
       "    <tr>\n",
       "      <th>...</th>\n",
       "      <td>...</td>\n",
       "      <td>...</td>\n",
       "      <td>...</td>\n",
       "      <td>...</td>\n",
       "      <td>...</td>\n",
       "      <td>...</td>\n",
       "    </tr>\n",
       "    <tr>\n",
       "      <th>40798</th>\n",
       "      <td>160</td>\n",
       "      <td>1366</td>\n",
       "      <td>Not Available</td>\n",
       "      <td>0</td>\n",
       "      <td>NaN</td>\n",
       "      <td>NaN</td>\n",
       "    </tr>\n",
       "    <tr>\n",
       "      <th>40835</th>\n",
       "      <td>245</td>\n",
       "      <td>2231</td>\n",
       "      <td>Not Available</td>\n",
       "      <td>0</td>\n",
       "      <td>NaN</td>\n",
       "      <td>NaN</td>\n",
       "    </tr>\n",
       "    <tr>\n",
       "      <th>43226</th>\n",
       "      <td>318</td>\n",
       "      <td>3392</td>\n",
       "      <td>Not Available</td>\n",
       "      <td>0</td>\n",
       "      <td>NaN</td>\n",
       "      <td>NaN</td>\n",
       "    </tr>\n",
       "    <tr>\n",
       "      <th>43227</th>\n",
       "      <td>328</td>\n",
       "      <td>3196</td>\n",
       "      <td>Not Available</td>\n",
       "      <td>0</td>\n",
       "      <td>NaN</td>\n",
       "      <td>NaN</td>\n",
       "    </tr>\n",
       "    <tr>\n",
       "      <th>43321</th>\n",
       "      <td>42303</td>\n",
       "      <td>455717</td>\n",
       "      <td>Debt Consolidation</td>\n",
       "      <td>0</td>\n",
       "      <td>NaN</td>\n",
       "      <td>600-619</td>\n",
       "    </tr>\n",
       "  </tbody>\n",
       "</table>\n",
       "<p>1400726 rows × 6 columns</p>\n",
       "</div>"
      ],
      "text/plain": [
       "       LoanID  ListingNumber ListingCategoryName  CycleCounter FICORange  \\\n",
       "0      256748        2187631               Other             0   720-739   \n",
       "1      256812        2253012  Debt Consolidation             0   800-819   \n",
       "2      257165        2280474               Other             0   760-779   \n",
       "3      257440        2273313    Home Improvement             0   780-799   \n",
       "4      257515        2193175  Debt Consolidation             0   720-739   \n",
       "...       ...            ...                 ...           ...       ...   \n",
       "40798     160           1366       Not Available             0       NaN   \n",
       "40835     245           2231       Not Available             0       NaN   \n",
       "43226     318           3392       Not Available             0       NaN   \n",
       "43227     328           3196       Not Available             0       NaN   \n",
       "43321   42303         455717  Debt Consolidation             0       NaN   \n",
       "\n",
       "      ScorexRange  \n",
       "0         680-699  \n",
       "1         820-839  \n",
       "2         800-819  \n",
       "3         800-819  \n",
       "4         700-719  \n",
       "...           ...  \n",
       "40798         NaN  \n",
       "40835         NaN  \n",
       "43226         NaN  \n",
       "43227         NaN  \n",
       "43321     600-619  \n",
       "\n",
       "[1400726 rows x 6 columns]"
      ]
     },
     "execution_count": 7,
     "metadata": {},
     "output_type": "execute_result"
    }
   ],
   "source": [
    "#Compute dask file in order to actually process previous commands\n",
    "df.compute()"
   ]
  },
  {
   "cell_type": "code",
   "execution_count": 8,
   "metadata": {},
   "outputs": [
    {
     "data": {
      "text/plain": [
       "['C:/Users/P2773714/Documents/Regis/Practicum I/Prosper_scripts/dask_df_dropped_cols_v3.csv']"
      ]
     },
     "execution_count": 8,
     "metadata": {},
     "output_type": "execute_result"
    }
   ],
   "source": [
    "#Dask defaults to split files into .PART to save memory. Single_File parameter fixes this.\n",
    "df.to_csv('dask_df_dropped_cols_v3.csv', single_file = True)"
   ]
  },
  {
   "cell_type": "code",
   "execution_count": 9,
   "metadata": {},
   "outputs": [
    {
     "data": {
      "text/html": [
       "<div>\n",
       "<style scoped>\n",
       "    .dataframe tbody tr th:only-of-type {\n",
       "        vertical-align: middle;\n",
       "    }\n",
       "\n",
       "    .dataframe tbody tr th {\n",
       "        vertical-align: top;\n",
       "    }\n",
       "\n",
       "    .dataframe thead th {\n",
       "        text-align: right;\n",
       "    }\n",
       "</style>\n",
       "<table border=\"1\" class=\"dataframe\">\n",
       "  <thead>\n",
       "    <tr style=\"text-align: right;\">\n",
       "      <th></th>\n",
       "      <th>LoanID</th>\n",
       "      <th>ListingNumber</th>\n",
       "      <th>ListingCategoryName</th>\n",
       "      <th>CycleCounter</th>\n",
       "      <th>FICORange</th>\n",
       "      <th>ScorexRange</th>\n",
       "    </tr>\n",
       "  </thead>\n",
       "  <tbody>\n",
       "    <tr>\n",
       "      <th>0</th>\n",
       "      <td>256748</td>\n",
       "      <td>2187631</td>\n",
       "      <td>Other</td>\n",
       "      <td>0</td>\n",
       "      <td>720-739</td>\n",
       "      <td>680-699</td>\n",
       "    </tr>\n",
       "    <tr>\n",
       "      <th>1</th>\n",
       "      <td>256812</td>\n",
       "      <td>2253012</td>\n",
       "      <td>Debt Consolidation</td>\n",
       "      <td>0</td>\n",
       "      <td>800-819</td>\n",
       "      <td>820-839</td>\n",
       "    </tr>\n",
       "    <tr>\n",
       "      <th>2</th>\n",
       "      <td>257165</td>\n",
       "      <td>2280474</td>\n",
       "      <td>Other</td>\n",
       "      <td>0</td>\n",
       "      <td>760-779</td>\n",
       "      <td>800-819</td>\n",
       "    </tr>\n",
       "    <tr>\n",
       "      <th>3</th>\n",
       "      <td>257440</td>\n",
       "      <td>2273313</td>\n",
       "      <td>Home Improvement</td>\n",
       "      <td>0</td>\n",
       "      <td>780-799</td>\n",
       "      <td>800-819</td>\n",
       "    </tr>\n",
       "    <tr>\n",
       "      <th>4</th>\n",
       "      <td>257515</td>\n",
       "      <td>2193175</td>\n",
       "      <td>Debt Consolidation</td>\n",
       "      <td>0</td>\n",
       "      <td>720-739</td>\n",
       "      <td>700-719</td>\n",
       "    </tr>\n",
       "  </tbody>\n",
       "</table>\n",
       "</div>"
      ],
      "text/plain": [
       "   LoanID  ListingNumber ListingCategoryName  CycleCounter FICORange  \\\n",
       "0  256748        2187631               Other             0   720-739   \n",
       "1  256812        2253012  Debt Consolidation             0   800-819   \n",
       "2  257165        2280474               Other             0   760-779   \n",
       "3  257440        2273313    Home Improvement             0   780-799   \n",
       "4  257515        2193175  Debt Consolidation             0   720-739   \n",
       "\n",
       "  ScorexRange  \n",
       "0     680-699  \n",
       "1     820-839  \n",
       "2     800-819  \n",
       "3     800-819  \n",
       "4     700-719  "
      ]
     },
     "execution_count": 9,
     "metadata": {},
     "output_type": "execute_result"
    }
   ],
   "source": [
    "df.head()"
   ]
  },
  {
   "cell_type": "code",
   "execution_count": 10,
   "metadata": {},
   "outputs": [
    {
     "data": {
      "text/html": [
       "<div><strong>Dask DataFrame Structure:</strong></div>\n",
       "<div>\n",
       "<style scoped>\n",
       "    .dataframe tbody tr th:only-of-type {\n",
       "        vertical-align: middle;\n",
       "    }\n",
       "\n",
       "    .dataframe tbody tr th {\n",
       "        vertical-align: top;\n",
       "    }\n",
       "\n",
       "    .dataframe thead th {\n",
       "        text-align: right;\n",
       "    }\n",
       "</style>\n",
       "<table border=\"1\" class=\"dataframe\">\n",
       "  <thead>\n",
       "    <tr style=\"text-align: right;\">\n",
       "      <th></th>\n",
       "      <th>LoanID</th>\n",
       "      <th>ListingNumber</th>\n",
       "      <th>CycleCounter</th>\n",
       "    </tr>\n",
       "    <tr>\n",
       "      <th>npartitions=1</th>\n",
       "      <th></th>\n",
       "      <th></th>\n",
       "      <th></th>\n",
       "    </tr>\n",
       "  </thead>\n",
       "  <tbody>\n",
       "    <tr>\n",
       "      <th></th>\n",
       "      <td>float64</td>\n",
       "      <td>float64</td>\n",
       "      <td>float64</td>\n",
       "    </tr>\n",
       "    <tr>\n",
       "      <th></th>\n",
       "      <td>...</td>\n",
       "      <td>...</td>\n",
       "      <td>...</td>\n",
       "    </tr>\n",
       "  </tbody>\n",
       "</table>\n",
       "</div>\n",
       "<div>Dask Name: describe-numeric, 12276 tasks</div>"
      ],
      "text/plain": [
       "Dask DataFrame Structure:\n",
       "                LoanID ListingNumber CycleCounter\n",
       "npartitions=1                                    \n",
       "               float64       float64      float64\n",
       "                   ...           ...          ...\n",
       "Dask Name: describe-numeric, 12276 tasks"
      ]
     },
     "execution_count": 10,
     "metadata": {},
     "output_type": "execute_result"
    }
   ],
   "source": [
    "df.describe()"
   ]
  },
  {
   "cell_type": "code",
   "execution_count": 11,
   "metadata": {},
   "outputs": [],
   "source": [
    "#Compare file to Master Loan file\n",
    "example = df[df.LoanID == 9422]"
   ]
  },
  {
   "cell_type": "code",
   "execution_count": 12,
   "metadata": {},
   "outputs": [
    {
     "data": {
      "text/html": [
       "<div>\n",
       "<style scoped>\n",
       "    .dataframe tbody tr th:only-of-type {\n",
       "        vertical-align: middle;\n",
       "    }\n",
       "\n",
       "    .dataframe tbody tr th {\n",
       "        vertical-align: top;\n",
       "    }\n",
       "\n",
       "    .dataframe thead th {\n",
       "        text-align: right;\n",
       "    }\n",
       "</style>\n",
       "<table border=\"1\" class=\"dataframe\">\n",
       "  <thead>\n",
       "    <tr style=\"text-align: right;\">\n",
       "      <th></th>\n",
       "      <th>LoanID</th>\n",
       "      <th>ListingNumber</th>\n",
       "      <th>ListingCategoryName</th>\n",
       "      <th>CycleCounter</th>\n",
       "      <th>FICORange</th>\n",
       "      <th>ScorexRange</th>\n",
       "    </tr>\n",
       "  </thead>\n",
       "  <tbody>\n",
       "    <tr>\n",
       "      <th>44782</th>\n",
       "      <td>9422</td>\n",
       "      <td>113183</td>\n",
       "      <td>Not Available</td>\n",
       "      <td>0</td>\n",
       "      <td>NaN</td>\n",
       "      <td>580-599</td>\n",
       "    </tr>\n",
       "  </tbody>\n",
       "</table>\n",
       "</div>"
      ],
      "text/plain": [
       "       LoanID  ListingNumber ListingCategoryName  CycleCounter FICORange  \\\n",
       "44782    9422         113183       Not Available             0       NaN   \n",
       "\n",
       "      ScorexRange  \n",
       "44782     580-599  "
      ]
     },
     "execution_count": 12,
     "metadata": {},
     "output_type": "execute_result"
    }
   ],
   "source": [
    "example.compute()"
   ]
  }
 ],
 "metadata": {
  "kernelspec": {
   "display_name": "Python 3",
   "language": "python",
   "name": "python3"
  },
  "language_info": {
   "codemirror_mode": {
    "name": "ipython",
    "version": 3
   },
   "file_extension": ".py",
   "mimetype": "text/x-python",
   "name": "python",
   "nbconvert_exporter": "python",
   "pygments_lexer": "ipython3",
   "version": "3.8.5"
  }
 },
 "nbformat": 4,
 "nbformat_minor": 4
}
